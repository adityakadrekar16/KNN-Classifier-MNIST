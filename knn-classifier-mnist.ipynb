{
 "cells": [
  {
   "cell_type": "code",
   "execution_count": 1,
   "metadata": {
    "colab": {
     "base_uri": "https://urldefense.proofpoint.com/v2/url?u=https-3A__localhost-3A8080_&d=DwIGAg&c=h2Fu29X6B8vuaRkwP4jdQg&r=VrA8Wg-NQXRIWiLPbMbwreqPxfnbbNHHEdL8LFUK5DI&m=WrZR3go5H-4T0a0mrchaz1zXbxvWsQ_1_g74MZB-6nI&s=COsKhLpkkIAVEZ8mGX1BWlFgix9g_V3S4tnVm7ltEss&e= ",
     "height": 51
    },
    "colab_type": "code",
    "id": "LCWmjZU6eRyq",
    "outputId": "831d833d-73a1-4141-bf50-b824905e0c91"
   },
   "outputs": [
    {
     "name": "stdout",
     "output_type": "stream",
     "text": [
      "Overall # of samples is 70000\n",
      "Size of the features is: (70000, 784)\n"
     ]
    }
   ],
   "source": [
    "from collections import Counter\n",
    "from sklearn.datasets import fetch_openml\n",
    "import matplotlib.pyplot as plt\n",
    "import pandas as pd\n",
    "import time\n",
    "import numpy as np\n",
    "import ssl\n",
    "ssl._create_default_https_context = ssl._create_unverified_context\n",
    "\n",
    "X, y = fetch_openml('mnist_784', version=1, return_X_y=True)\n",
    "print('Overall # of samples is', y.shape[0])\n",
    "print('Size of the features is:', X.shape)"
   ]
  },
  {
   "cell_type": "code",
   "execution_count": 2,
   "metadata": {
    "colab": {
     "base_uri": "https://urldefense.proofpoint.com/v2/url?u=https-3A__localhost-3A8080_&d=DwIGAg&c=h2Fu29X6B8vuaRkwP4jdQg&r=VrA8Wg-NQXRIWiLPbMbwreqPxfnbbNHHEdL8LFUK5DI&m=WrZR3go5H-4T0a0mrchaz1zXbxvWsQ_1_g74MZB-6nI&s=COsKhLpkkIAVEZ8mGX1BWlFgix9g_V3S4tnVm7ltEss&e= ",
     "height": 281
    },
    "colab_type": "code",
    "id": "m7LzokTseY6w",
    "outputId": "76e989e9-6a10-4c1f-e3c7-11c16e774413"
   },
   "outputs": [
    {
     "data": {
      "image/png": "[encoded data removed]",
      "text/plain": [
       "<Figure size 432x288 with 1 Axes>"
      ]
     },
     "metadata": {
      "needs_background": "light"
     },
     "output_type": "display_data"
    }
   ],
   "source": [
    "def show_digit(x_vec, label):\n",
    "    x_mat = x_vec.reshape(28, 28)\n",
    "    plt.imshow(x_mat)\n",
    "    plt.title('Label of this digit is: ' + label)\n",
    "    plt.show()\n",
    "\n",
    "show_digit(X[0], y[0])"
   ]
  },
  {
   "cell_type": "code",
   "execution_count": 3,
   "metadata": {
    "colab": {},
    "colab_type": "code",
    "id": "LPu11U5JeiOz"
   },
   "outputs": [],
   "source": [
    "n_train = 6000\n",
    "n_test = 1000\n",
    "split_loc = 60000 # train and test split at location of 60k\n",
    "\n",
    "X_train, y_train = X[:n_train,:], y[:n_train]\n",
    "X_test, y_test = X[split_loc:split_loc + n_test, :] , y[split_loc:split_loc+n_test]"
   ]
  },
  {
   "cell_type": "code",
   "execution_count": 4,
   "metadata": {
    "colab": {},
    "colab_type": "code",
    "id": "3rHA5vi_emEn"
   },
   "outputs": [],
   "source": [
    "# converting the above numpy arrays to pandas dataframe\n",
    "df_train = pd.DataFrame(X_train)\n",
    "df_test = pd.DataFrame(X_test)"
   ]
  },
  {
   "cell_type": "markdown",
   "metadata": {},
   "source": [
    "# plot the # of sample for each category in Training and Testing"
   ]
  },
  {
   "cell_type": "code",
   "execution_count": 5,
   "metadata": {},
   "outputs": [],
   "source": [
    "y_train_df = pd.DataFrame(data = y_train, columns = ['class'])\n",
    "y_test_df = pd.DataFrame(data = y_test, columns = ['class'])"
   ]
  },
  {
   "cell_type": "code",
   "execution_count": 6,
   "metadata": {},
   "outputs": [
    {
     "data": {
      "image/png": "[encoded data removed]",
      "text/plain": [
       "<Figure size 432x288 with 1 Axes>"
      ]
     },
     "metadata": {
      "needs_background": "light"
     },
     "output_type": "display_data"
    }
   ],
   "source": [
    "y_train_df['class'].value_counts().plot(kind = 'bar', colormap = 'Paired')\n",
    "plt.xlabel('Class')\n",
    "plt.ylabel('Number of samples for each category')\n",
    "plt.title('Training set')\n",
    "plt.show()"
   ]
  },
  {
   "cell_type": "code",
   "execution_count": 7,
   "metadata": {},
   "outputs": [
    {
     "data": {
      "image/png": "[encoded data removed]",
      "text/plain": [
       "<Figure size 432x288 with 1 Axes>"
      ]
     },
     "metadata": {
      "needs_background": "light"
     },
     "output_type": "display_data"
    }
   ],
   "source": [
    "y_test_df['class'].value_counts().plot(kind = 'bar', colormap = 'Paired')\n",
    "plt.xlabel('Class')\n",
    "plt.ylabel('Number of samples for each category')\n",
    "plt.title('Testing set')\n",
    "plt.show()"
   ]
  },
  {
   "cell_type": "markdown",
   "metadata": {},
   "source": [
    "# code for performing knn classification"
   ]
  },
  {
   "cell_type": "code",
   "execution_count": 8,
   "metadata": {
    "colab": {},
    "colab_type": "code",
    "id": "r5zExostoWgE"
   },
   "outputs": [],
   "source": [
    "# calculate euclidean distance\n",
    "def dist(x,y):   \n",
    "    return np.sqrt(np.sum((x-y)**2))"
   ]
  },
  {
   "cell_type": "code",
   "execution_count": 9,
   "metadata": {
    "colab": {
     "base_uri": "https://urldefense.proofpoint.com/v2/url?u=https-3A__localhost-3A8080_&d=DwIGAg&c=h2Fu29X6B8vuaRkwP4jdQg&r=VrA8Wg-NQXRIWiLPbMbwreqPxfnbbNHHEdL8LFUK5DI&m=WrZR3go5H-4T0a0mrchaz1zXbxvWsQ_1_g74MZB-6nI&s=COsKhLpkkIAVEZ8mGX1BWlFgix9g_V3S4tnVm7ltEss&e= ",
     "height": 1000
    },
    "colab_type": "code",
    "id": "eQ904bXb-IgG",
    "outputId": "163aefb2-0c41-4ae2-e2c4-ebc7e2fe0c4d",
    "scrolled": true
   },
   "outputs": [],
   "source": [
    "# a list to store euclidean distance\n",
    "train_distance_list = []\n",
    "# a list to store index\n",
    "train_ind_counter = []\n",
    "# a list with all the K values\n",
    "k_values = [1, 3, 5, 7, 9, 11, 13, 15, 17, 19,21]\n",
    "# creating a list of list for storing the predictions for each value of K\n",
    "train_pred_lists = [[] for _ in range(len(k_values))]\n",
    "\"\"\"\n",
    "Each list in your list is a reference to the same object. You modify one, you see the modification in all of them.\n",
    "https://urldefense.proofpoint.com/v2/url?u=https-3A__stackoverflow.com_questions_8713620_appending-2Ditems-2Dto-2Da-2Dlist-2Dof-2Dlists-2Din-2Dpython-255Cn&d=DwIGAg&c=h2Fu29X6B8vuaRkwP4jdQg&r=VrA8Wg-NQXRIWiLPbMbwreqPxfnbbNHHEdL8LFUK5DI&m=WrZR3go5H-4T0a0mrchaz1zXbxvWsQ_1_g74MZB-6nI&s=A-p1Rw5fxGX587fhSz4ZRl_uAreZ965twblgt5egE_U&e= \"\"\"\n",
    "\n",
    "\n",
    "# training the knn model\n",
    "# iterating through the training set\n",
    "for i in range(0,6000):\n",
    "    train_vec_one = df_train.iloc[i]\n",
    "    # iterating through the training set\n",
    "    for j in range(0,6000):\n",
    "        train_vec = df_train.iloc[j]\n",
    "        # calculate euclidean distance by calling function dist\n",
    "        euclidean_dist = dist(train_vec_one,train_vec)\n",
    "        train_distance_list.append(euclidean_dist)\n",
    "        # increment the index\n",
    "        train_ind_counter.append(j)\n",
    "    \n",
    "    # dictionary to store all the results\n",
    "    d = {'index':train_ind_counter, 'distance': train_distance_list}\n",
    "    # convert dictionary to dataframe\n",
    "    df = pd.DataFrame(d, columns = ['index', 'distance'])\n",
    "    # sort in ascending order by euclidean distance\n",
    "    df_sorted = df.sort_values(by = 'distance')\n",
    "\n",
    "    # iterate through each value of K\n",
    "    for K in range(len(k_values)):\n",
    "        index_list = list(df_sorted['index'][:k_values[K]])\n",
    "        distance = list(df_sorted['distance'][:k_values[K]])\n",
    "        res_list = [y_train[i] for i in index_list]\n",
    "        # now get the count of the max class in result list\n",
    "        pred_value = max(res_list,key=res_list.count)\n",
    "        # storing every prediction for K in respective list\n",
    "        train_pred_lists[K].append(pred_value)\n",
    "    \n",
    "    # reinitialize the list\n",
    "    train_ind_counter = []\n",
    "    train_distance_list = []"
   ]
  },
  {
   "cell_type": "code",
   "execution_count": 10,
   "metadata": {
    "colab": {},
    "colab_type": "code",
    "id": "50tEu2CH-xs0",
    "scrolled": true
   },
   "outputs": [],
   "source": [
    "# a list to store euclidean distance\n",
    "test_distance_list = []\n",
    "# a list to store index\n",
    "test_ind_counter = []\n",
    "# creating a list of list for storing the predictions for each value of K\n",
    "test_pred_lists = [[] for _ in range(len(k_values))]\n",
    "\n",
    "# testing the knn model\n",
    "# iterating through the test set\n",
    "for i in range(0,1000):\n",
    "    test_vec = df_test.iloc[i]\n",
    "    # iterating through the training set\n",
    "    for j in range(0,6000): \n",
    "        train_vec = df_train.iloc[j]\n",
    "        # calculate euclidean distance\n",
    "        euclidean_dist = dist(test_vec,train_vec)\n",
    "        test_distance_list.append(euclidean_dist)\n",
    "        # increment the index\n",
    "        test_ind_counter.append(j)\n",
    "    \n",
    "    # dictionary to store all the results\n",
    "    d = {'index':test_ind_counter, 'distance': test_distance_list}\n",
    "    # convert dictionary to dataframe\n",
    "    df = pd.DataFrame(d, columns = ['index', 'distance'])\n",
    "    # sort in ascending order by euclidean distance\n",
    "    df_sorted = df.sort_values(by = 'distance')\n",
    "\n",
    "    # iterate through each value of K\n",
    "    for K in range(len(k_values)):\n",
    "        index_list = list(df_sorted['index'][:k_values[K]])\n",
    "        distance = list(df_sorted['distance'][:k_values[K]])\n",
    "        res_list = [train_pred_lists[K][ind] for ind in index_list]\n",
    "        # now get the count of the max class in result list\n",
    "        pred_value = max(res_list,key=res_list.count)\n",
    "        # storing every prediction in respective list\n",
    "        test_pred_lists[K].append(pred_value)\n",
    "        \n",
    "    # # reinitialize the list   \n",
    "    test_ind_counter = []\n",
    "    test_distance_list = []"
   ]
  },
  {
   "cell_type": "code",
   "execution_count": 11,
   "metadata": {
    "colab": {
     "base_uri": "https://urldefense.proofpoint.com/v2/url?u=https-3A__localhost-3A8080_&d=DwIGAg&c=h2Fu29X6B8vuaRkwP4jdQg&r=VrA8Wg-NQXRIWiLPbMbwreqPxfnbbNHHEdL8LFUK5DI&m=WrZR3go5H-4T0a0mrchaz1zXbxvWsQ_1_g74MZB-6nI&s=COsKhLpkkIAVEZ8mGX1BWlFgix9g_V3S4tnVm7ltEss&e= ",
     "height": 34
    },
    "colab_type": "code",
    "id": "KUwXwt4OJBLn",
    "outputId": "26dd0ff4-42d6-4a72-be85-606497b6f1ea"
   },
   "outputs": [
    {
     "name": "stdout",
     "output_type": "stream",
     "text": [
      "The train accuracy is 100.0% for K=1\n",
      "The train accuracy is 97.82% for K=3\n",
      "The train accuracy is 96.77% for K=5\n",
      "The train accuracy is 96.05% for K=7\n",
      "The train accuracy is 95.55% for K=9\n",
      "The train accuracy is 95.07% for K=11\n",
      "The train accuracy is 94.8% for K=13\n",
      "The train accuracy is 94.43% for K=15\n",
      "The train accuracy is 94.0% for K=17\n",
      "The train accuracy is 93.73% for K=19\n",
      "The train accuracy is 93.43% for K=21\n"
     ]
    }
   ],
   "source": [
    "# calculating results for train set\n",
    "train_pred = 0\n",
    "train_pred_result = []\n",
    "for K in range(len(k_values)):\n",
    "    # element wise comparison to find the accuracy\n",
    "    for l1,l2 in zip(train_pred_lists[K], y_train.tolist()):\n",
    "        if l1 == l2:\n",
    "            # increment when there is a match\n",
    "            train_pred += 1\n",
    "    accuracy = train_pred/6000\n",
    "    train_pred_result.append((round(accuracy*100,2)))\n",
    "    print('The train accuracy is '+str(round(accuracy*100,2))+'% for K='+str(k_values[K]))\n",
    "    train_pred = 0"
   ]
  },
  {
   "cell_type": "code",
   "execution_count": 12,
   "metadata": {
    "colab": {},
    "colab_type": "code",
    "id": "XGcLsFrYqPbz"
   },
   "outputs": [
    {
     "name": "stdout",
     "output_type": "stream",
     "text": [
      "The test accuracy is 90.4% for K=1\n",
      "The test accuracy is 90.9% for K=3\n",
      "The test accuracy is 91.5% for K=5\n",
      "The test accuracy is 90.4% for K=7\n",
      "The test accuracy is 89.8% for K=9\n",
      "The test accuracy is 88.4% for K=11\n",
      "The test accuracy is 88.9% for K=13\n",
      "The test accuracy is 88.3% for K=15\n",
      "The test accuracy is 87.9% for K=17\n",
      "The test accuracy is 87.6% for K=19\n",
      "The test accuracy is 86.8% for K=21\n"
     ]
    }
   ],
   "source": [
    "# calculating results for test set\n",
    "test_pred = 0\n",
    "test_pred_result = []\n",
    "for K in range(len(k_values)):\n",
    "    for l1,l2 in zip(test_pred_lists[K], y_test.tolist()):\n",
    "        if l1 == l2:\n",
    "            test_pred += 1\n",
    "    accuracy = test_pred/1000\n",
    "    test_pred_result.append((round(accuracy*100,2)))\n",
    "    print('The test accuracy is '+str(accuracy*100)+'% for K='+str(k_values[K]))\n",
    "    test_pred = 0"
   ]
  },
  {
   "cell_type": "code",
   "execution_count": 13,
   "metadata": {},
   "outputs": [
    {
     "data": {
      "text/html": [
       "<div>\n",
       "<style scoped>\n",
       "    .dataframe tbody tr th:only-of-type {\n",
       "        vertical-align: middle;\n",
       "    }\n",
       "\n",
       "    .dataframe tbody tr th {\n",
       "        vertical-align: top;\n",
       "    }\n",
       "\n",
       "    .dataframe thead th {\n",
       "        text-align: right;\n",
       "    }\n",
       "</style>\n",
       "<table border=\"1\" class=\"dataframe\">\n",
       "  <thead>\n",
       "    <tr style=\"text-align: right;\">\n",
       "      <th></th>\n",
       "      <th>K value</th>\n",
       "      <th>train pred</th>\n",
       "      <th>test pred</th>\n",
       "    </tr>\n",
       "  </thead>\n",
       "  <tbody>\n",
       "    <tr>\n",
       "      <th>0</th>\n",
       "      <td>1</td>\n",
       "      <td>100.00</td>\n",
       "      <td>90.4</td>\n",
       "    </tr>\n",
       "    <tr>\n",
       "      <th>1</th>\n",
       "      <td>3</td>\n",
       "      <td>97.82</td>\n",
       "      <td>90.9</td>\n",
       "    </tr>\n",
       "    <tr>\n",
       "      <th>2</th>\n",
       "      <td>5</td>\n",
       "      <td>96.77</td>\n",
       "      <td>91.5</td>\n",
       "    </tr>\n",
       "    <tr>\n",
       "      <th>3</th>\n",
       "      <td>7</td>\n",
       "      <td>96.05</td>\n",
       "      <td>90.4</td>\n",
       "    </tr>\n",
       "    <tr>\n",
       "      <th>4</th>\n",
       "      <td>9</td>\n",
       "      <td>95.55</td>\n",
       "      <td>89.8</td>\n",
       "    </tr>\n",
       "    <tr>\n",
       "      <th>5</th>\n",
       "      <td>11</td>\n",
       "      <td>95.07</td>\n",
       "      <td>88.4</td>\n",
       "    </tr>\n",
       "    <tr>\n",
       "      <th>6</th>\n",
       "      <td>13</td>\n",
       "      <td>94.80</td>\n",
       "      <td>88.9</td>\n",
       "    </tr>\n",
       "    <tr>\n",
       "      <th>7</th>\n",
       "      <td>15</td>\n",
       "      <td>94.43</td>\n",
       "      <td>88.3</td>\n",
       "    </tr>\n",
       "    <tr>\n",
       "      <th>8</th>\n",
       "      <td>17</td>\n",
       "      <td>94.00</td>\n",
       "      <td>87.9</td>\n",
       "    </tr>\n",
       "    <tr>\n",
       "      <th>9</th>\n",
       "      <td>19</td>\n",
       "      <td>93.73</td>\n",
       "      <td>87.6</td>\n",
       "    </tr>\n",
       "    <tr>\n",
       "      <th>10</th>\n",
       "      <td>21</td>\n",
       "      <td>93.43</td>\n",
       "      <td>86.8</td>\n",
       "    </tr>\n",
       "  </tbody>\n",
       "</table>\n",
       "</div>"
      ],
      "text/plain": [
       "    K value  train pred  test pred\n",
       "0         1      100.00       90.4\n",
       "1         3       97.82       90.9\n",
       "2         5       96.77       91.5\n",
       "3         7       96.05       90.4\n",
       "4         9       95.55       89.8\n",
       "5        11       95.07       88.4\n",
       "6        13       94.80       88.9\n",
       "7        15       94.43       88.3\n",
       "8        17       94.00       87.9\n",
       "9        19       93.73       87.6\n",
       "10       21       93.43       86.8"
      ]
     },
     "execution_count": 13,
     "metadata": {},
     "output_type": "execute_result"
    }
   ],
   "source": [
    "# getting all the results for train and test in a dataframe\n",
    "df_result = pd.DataFrame()\n",
    "df_result['K value'] = k_values\n",
    "df_result['train pred'] = train_pred_result\n",
    "df_result['test pred'] = test_pred_result\n",
    "df_result"
   ]
  },
  {
   "cell_type": "markdown",
   "metadata": {},
   "source": [
    "# plot the curve of Testing accuracy w.r.t. different K values"
   ]
  },
  {
   "cell_type": "code",
   "execution_count": 14,
   "metadata": {},
   "outputs": [
    {
     "data": {
      "image/png": "[encoded data removed]",
      "text/plain": [
       "<Figure size 432x288 with 1 Axes>"
      ]
     },
     "metadata": {
      "needs_background": "light"
     },
     "output_type": "display_data"
    }
   ],
   "source": [
    "plt.plot(df_result['K value'], df_result['train pred'])\n",
    "plt.xlabel('K value')\n",
    "plt.ylabel('Training accuracy (%)')\n",
    "plt.title('Accuracy for train set')\n",
    "plt.show()"
   ]
  },
  {
   "cell_type": "code",
   "execution_count": 15,
   "metadata": {},
   "outputs": [
    {
     "data": {
      "image/png": "[encoded data removed]",
      "text/plain": [
       "<Figure size 432x288 with 1 Axes>"
      ]
     },
     "metadata": {
      "needs_background": "light"
     },
     "output_type": "display_data"
    }
   ],
   "source": [
    "plt.plot(df_result['K value'], df_result['test pred'])\n",
    "plt.xlabel('K value')\n",
    "plt.ylabel('Testing accuracy (%)')\n",
    "plt.title('Accuracy for test set')\n",
    "plt.show()"
   ]
  },
  {
   "cell_type": "code",
   "execution_count": 16,
   "metadata": {},
   "outputs": [
    {
     "data": {
      "image/png": "[encoded data removed]",
      "text/plain": [
       "<Figure size 432x288 with 1 Axes>"
      ]
     },
     "metadata": {
      "needs_background": "light"
     },
     "output_type": "display_data"
    }
   ],
   "source": [
    "plt.plot(df_result['K value'], df_result['train pred'], 'r', label = 'train pred')\n",
    "plt.plot(df_result['K value'], df_result['test pred'], 'g', label = 'test pred')\n",
    "plt.legend(loc='upper right')\n",
    "plt.xlabel('K value')\n",
    "plt.ylabel('Accuracy (%)')\n",
    "plt.title('Accuracy for train and test set')\n",
    "plt.show()"
   ]
  }
 ],
 "metadata": {
  "colab": {
   "collapsed_sections": [],
   "name": "Untitled0.ipynb",
   "provenance": []
  },
  "kernelspec": {
   "display_name": "Python 3",
   "language": "python",
   "name": "python3"
  },
  "language_info": {
   "codemirror_mode": {
    "name": "ipython",
    "version": 3
   },
   "file_extension": ".py",
   "mimetype": "text/x-python",
   "name": "python",
   "nbconvert_exporter": "python",
   "pygments_lexer": "ipython3",
   "version": "3.5.5"
  }
 },
 "nbformat": 4,
 "nbformat_minor": 1
}
